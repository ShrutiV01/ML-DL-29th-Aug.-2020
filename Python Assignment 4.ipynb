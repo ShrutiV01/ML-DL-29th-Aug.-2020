{
 "cells": [
  {
   "cell_type": "markdown",
   "metadata": {},
   "source": [
    "### Python Assignment 4 "
   ]
  },
  {
   "cell_type": "markdown",
   "metadata": {},
   "source": [
    "1.1 Write a Python Program(with class concepts) to find the area of the triangle using the below formula.area = (s*(s-a)*(s-b)*(s-c)) ** 0.5\n",
    "Function to take the length of thesides of triangle from user should be defined in the parent class and function to calculate the area should be defined in subclass"
   ]
  },
  {
   "cell_type": "code",
   "execution_count": 23,
   "metadata": {},
   "outputs": [
    {
     "name": "stdout",
     "output_type": "stream",
     "text": [
      "\n",
      " Area of triangle: 14.696938456699069\n"
     ]
    }
   ],
   "source": [
    "class side:\n",
    "\n",
    "    def __init__(self, a,b,c):\n",
    "        self.a=a\n",
    "        self.b=b\n",
    "        self.c=c\n",
    "\n",
    "        \n",
    "class area(side):\n",
    "    def __str__(self):\n",
    "        #super().__init__(self,a,b,c)\n",
    "        s= (self.a+self.b+self.c)/2\n",
    "        ar =(s*(s-self.a)*(s-self.b)*(s-self.c))**0.5\n",
    "        return (\"\\n Area of triangle: \" +str(ar))\n",
    "    \n",
    "obj = area(5,6,7)\n",
    "print(obj)"
   ]
  },
  {
   "cell_type": "markdown",
   "metadata": {},
   "source": [
    "1.2 Write a function filter_long_words() that takes a list of words and an integer n and returns the list of words that are longer than n."
   ]
  },
  {
   "cell_type": "code",
   "execution_count": 16,
   "metadata": {},
   "outputs": [
    {
     "name": "stdout",
     "output_type": "stream",
     "text": [
      "ENter the length: 3\n"
     ]
    },
    {
     "data": {
      "text/plain": [
       "['shruti', 'vaidya', 'ineuron']"
      ]
     },
     "execution_count": 16,
     "metadata": {},
     "output_type": "execute_result"
    }
   ],
   "source": [
    "# Method 1:\n",
    "def filter_long_words(l,n):\n",
    "    return [w for w in l if len(w)>n]\n",
    "\n",
    "a = ['abc','shruti','vaidya','ineuron','nlp']\n",
    "l = int(input(\"ENter the length: \"))\n",
    "\n",
    "filter_long_words(a,l)"
   ]
  },
  {
   "cell_type": "code",
   "execution_count": 14,
   "metadata": {},
   "outputs": [
    {
     "name": "stdout",
     "output_type": "stream",
     "text": [
      "ENter the length: 3\n"
     ]
    },
    {
     "data": {
      "text/plain": [
       "['shruti', 'vaidya', 'ineuron']"
      ]
     },
     "execution_count": 14,
     "metadata": {},
     "output_type": "execute_result"
    }
   ],
   "source": [
    "# Method 2:\n",
    "def filter_words(l,n):\n",
    "    list_words=[]\n",
    "    for i in l:\n",
    "        if len(i)>n :\n",
    "            list_words.append[i]\n",
    "    return list_words        \n",
    "\n",
    "a = ['abc','shruti','vaidya','ineuron','nlp']\n",
    "l = int(input(\"ENter the length: \"))\n",
    "\n",
    "filter_long_words(a,l)"
   ]
  },
  {
   "cell_type": "code",
   "execution_count": 15,
   "metadata": {},
   "outputs": [
    {
     "name": "stdout",
     "output_type": "stream",
     "text": [
      "ENter the length: 4\n"
     ]
    },
    {
     "data": {
      "text/plain": [
       "['shruti', 'vaidya', 'ineuron']"
      ]
     },
     "execution_count": 15,
     "metadata": {},
     "output_type": "execute_result"
    }
   ],
   "source": [
    "# Method 3:\n",
    "def filter_words1(l,n):\n",
    "    return filter(lambda x: len(x) > n, l)\n",
    "\n",
    "a = ['abc','shruti','vaidya','ineuron','nlp']\n",
    "l = int(input(\"ENter the length: \"))\n",
    "\n",
    "filter_long_words(a,l)\n"
   ]
  },
  {
   "cell_type": "markdown",
   "metadata": {},
   "source": [
    "2.1 Write a Python program using function concept that maps list of words into a list of integers representing the lengths of the corresponding words.Hint: If a list [ ab,cde,erty] is passed on to the python function output should come as [2,3,4]Here 2,3 and 4 are the lengths of the words in the list."
   ]
  },
  {
   "cell_type": "code",
   "execution_count": 37,
   "metadata": {},
   "outputs": [
    {
     "data": {
      "text/plain": [
       "[2, 3, 4]"
      ]
     },
     "execution_count": 37,
     "metadata": {},
     "output_type": "execute_result"
    }
   ],
   "source": [
    "\n",
    "def map_words_len(l):\n",
    "    return list(map(lambda x:len(x),l))\n",
    "         #list(map(len,l))\n",
    "        #map(lambda x:len(x),l))\n",
    "        #map(len,l)\n",
    "\n",
    "l = ['ab','cde','erty']\n",
    "#list(input(\"Enter words: \".split(',')))\n",
    "map_words_len(l)"
   ]
  },
  {
   "cell_type": "code",
   "execution_count": 38,
   "metadata": {},
   "outputs": [
    {
     "name": "stdout",
     "output_type": "stream",
     "text": [
      "Word lengths in array: [4, 1, 9, 3, 5]\n"
     ]
    }
   ],
   "source": [
    "word_list=['Have','a','wonderful','day','ahead']\n",
    "\n",
    "def wordLength(word_list):\n",
    "    return list(map(lambda x: len(x),word_list))\n",
    "\n",
    "print(\"Word lengths in array: \"+str(wordLength(word_list)))"
   ]
  },
  {
   "cell_type": "markdown",
   "metadata": {},
   "source": [
    "2.2 Write a Python function which takes a character (i.e. a string of length 1) and returns True if it is a vowel, False otherwise."
   ]
  },
  {
   "cell_type": "code",
   "execution_count": 22,
   "metadata": {},
   "outputs": [
    {
     "name": "stdout",
     "output_type": "stream",
     "text": [
      "Enter a character (string of length 1): e\n"
     ]
    },
    {
     "data": {
      "text/plain": [
       "True"
      ]
     },
     "execution_count": 22,
     "metadata": {},
     "output_type": "execute_result"
    }
   ],
   "source": [
    "def check_vowel(l):\n",
    "    if (l=='a' or l=='A' or l=='e' or l=='E' or l=='i' or l=='I' or l=='o' or l=='O' or l=='u' or l=='U'):\n",
    "        return True\n",
    "    else: return False\n",
    "\n",
    "l = input(\"Enter a character (string of length 1): \")\n",
    "check_vowel(l)"
   ]
  },
  {
   "cell_type": "code",
   "execution_count": null,
   "metadata": {},
   "outputs": [],
   "source": []
  }
 ],
 "metadata": {
  "kernelspec": {
   "display_name": "Python 3",
   "language": "python",
   "name": "python3"
  },
  "language_info": {
   "codemirror_mode": {
    "name": "ipython",
    "version": 3
   },
   "file_extension": ".py",
   "mimetype": "text/x-python",
   "name": "python",
   "nbconvert_exporter": "python",
   "pygments_lexer": "ipython3",
   "version": "3.7.1"
  }
 },
 "nbformat": 4,
 "nbformat_minor": 2
}
