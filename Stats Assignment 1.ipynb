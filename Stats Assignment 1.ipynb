{
 "cells": [
  {
   "cell_type": "markdown",
   "metadata": {},
   "source": [
    "### Assignment 1"
   ]
  },
  {
   "cell_type": "markdown",
   "metadata": {},
   "source": [
    "Calculate the mean, median, mode and standard deviation for the problem statements 1& 2."
   ]
  },
  {
   "cell_type": "markdown",
   "metadata": {},
   "source": [
    "### Problem Statement 1:"
   ]
  },
  {
   "cell_type": "markdown",
   "metadata": {},
   "source": [
    "The marks awarded for an assignment set for a Year 8 class of 20 students were as follows:\n",
    "    6 7 5 7 7 8 7 6 9 7 4 10 6 8 8 9 5 6 4 8"
   ]
  },
  {
   "cell_type": "code",
   "execution_count": null,
   "metadata": {},
   "outputs": [],
   "source": [
    "Data: 6 7 5 7 7 8 7 6 9 7 4 10 6 8 8 9 5 6 4 8\n",
    "Mean: (6+7+5+7+7+8+7+6+9+7+4+10+6+8+8+9+5+6+4+8)/20   =137/20 =6.85\n",
    "Median: \n",
    "    4 4 5 5 6 6 6 6 7 7 7 7 7 8 8 8 8 9 9 10\n",
    "    =7+7/2 =14/2 = 7\n",
    "Mode:7\n",
    "    No. Occurance\n",
    "    4   2\n",
    "    5   2\n",
    "    6   4\n",
    "    7   5\n",
    "    8   4\n",
    "    9   2\n",
    "    10  1\n",
    "\n",
    "Standard deviation    \n",
    "= sqrt(50.55/20)\n",
    "= sqrt(2.525)\n",
    "= 1.589\n"
   ]
  },
  {
   "cell_type": "markdown",
   "metadata": {},
   "source": [
    "### Problem Statement 2: "
   ]
  },
  {
   "cell_type": "code",
   "execution_count": null,
   "metadata": {},
   "outputs": [],
   "source": [
    "The number of calls from motorists per day for roadside service was recorded for a particular month:\n",
    "28, 122, 217, 130, 120, 86, 80, 90, 140, 120, \n",
    "70, 40, 145, 113, 90, 68, 174, 194, 170, 100, \n",
    "75, 104, 97, 75, 123, 100, 75, 104, 97, 75,  123, 100, 89, 120, 109"
   ]
  },
  {
   "cell_type": "code",
   "execution_count": null,
   "metadata": {},
   "outputs": [],
   "source": [
    "Data:\n",
    "28, 122, 217, 130, 120, 86, 80, 90, 140, 120, \n",
    "70, 40, 145, 113, 90, 68, 174, 194, 170, 100, \n",
    "75, 104, 97, 75, 123, 100, 75, 104, 97, 75,  123, 100, 89, 120, 109"
   ]
  },
  {
   "cell_type": "code",
   "execution_count": null,
   "metadata": {},
   "outputs": [],
   "source": [
    "Mean: \n",
    "(28+122+217+130+120+86+80+90+140+120+70+40+145+113+90+68+174+194+170+100+75+104+97+75+123+100+75+104+97+75+123+100+89+120+109)/35\n",
    "=107.51\n",
    "\n",
    "28, 40, 68, 70, 75, 75, 75, 75, 80, 86, 89, 90, 90, 97, 97, 100, 100, 100, 104, 104, 109, 113, 120, 120, 120, 122, 123, 123, 130, 140, 145, 170, 174, 194, 217\n",
    "\n",
    "Median: 100\n",
    "\n",
    "Mode: 75\n",
    "28\t1\n",
    "40\t1\n",
    "68\t1\n",
    "70\t1\n",
    "75\t4\n",
    "80\t1\n",
    "86\t1\n",
    "89\t1\n",
    "90\t2\n",
    "97\t2\n",
    "100\t3\n",
    "104\t2\n",
    "109\t1\n",
    "113\t1\n",
    "120\t3\n",
    "122\t1\n",
    "123\t2\n",
    "130\t1\n",
    "140\t1\n",
    "145\t1\n",
    "170\t1\n",
    "174\t1\n",
    "194\t1\n",
    "217\t1\n",
    "\n",
    "Standard Deviation\n",
    "= sqrt(52616.74)/35-1\n",
    "=sqrt(1547.55)\n",
    "= 39.34\n"
   ]
  },
  {
   "cell_type": "markdown",
   "metadata": {},
   "source": [
    "### Problem Statement 3:"
   ]
  },
  {
   "cell_type": "markdown",
   "metadata": {},
   "source": [
    "The number of times I go to the gym in weekdays, are given below along with its associated probability:\n",
    "x = 0, 1, 2, 3, 4, 5 \n",
    "f(x) = 0.09, 0.15, 0.40, 0.25, 0.10, 0.01\n",
    "Calculate the mean no. of workouts in a week. \n",
    "Also evaluate the variance involved in it."
   ]
  },
  {
   "cell_type": "markdown",
   "metadata": {},
   "source": [
    "Solution:\n",
    "Mean: 15/6 = 2.5\n",
    "    x* f(x)= (0*0.09)+(1*0.15)+(2*0.40)+(3*0.25)+(4*0.10)+(5*0.01)=2.15\n",
    "Variance\n",
    "   50.82/15=3.39"
   ]
  },
  {
   "cell_type": "markdown",
   "metadata": {},
   "source": [
    "### Problem Statement 4:"
   ]
  },
  {
   "cell_type": "markdown",
   "metadata": {},
   "source": [
    "Let the continuous random variable D denote the diameter of the hole drilled in an aluminum sheet. \n",
    "Thetarget diameter to be achieved is 12.5mm. Random disturbances in the process often result in inaccuracy.\n",
    "Historical data shows that the distribution of D can be modelled by the PDF (𝑑) = 20𝑒−20(𝑑−12.5), 𝑑≥12.5. \n",
    "If a part with diameter > 12.6 mm needs to be scrapped, what is the proportion of those parts? Whatis the CDF when the diameter is of 11 mm? \n",
    "What is your conclusion regarding the proportion of scraps?"
   ]
  },
  {
   "cell_type": "code",
   "execution_count": null,
   "metadata": {},
   "outputs": [],
   "source": [
    "P(12.5< X <12.62)=-e^(-20(x-12.5)) from(12.5 to 12.6)  =0.865\n",
    "Because the total area under f (x) equals 1, we can also calculate \n",
    "P (12.5< X <12.62) = 1 – P(X > 12.62) = 1- 0.135= 0.865"
   ]
  },
  {
   "cell_type": "code",
   "execution_count": null,
   "metadata": {},
   "outputs": [],
   "source": []
  },
  {
   "cell_type": "markdown",
   "metadata": {},
   "source": [
    "### Problem Statement 5:"
   ]
  },
  {
   "cell_type": "markdown",
   "metadata": {},
   "source": [
    "A company manufactures LED bulbs with a faulty rate of 30%. \n",
    "If I randomly select 6 chosen LEDs, what is the probability of having 2 faulty LEDs in my sample? \n",
    "Calculate the average value of this process. \n",
    "Also evaluate the standard deviation associated with it."
   ]
  },
  {
   "cell_type": "code",
   "execution_count": null,
   "metadata": {},
   "outputs": [],
   "source": [
    "P(faulty)=30%=0.3\n",
    "P(Not faulty)=0.7\n",
    "N=6,  n=2\n",
    "\n",
    "P(2/6)=(6C2)(0.3)^2 * (0.7)^4\n",
    "      = 15* 0.09 * 0.2401\n",
    "      = 0.324135"
   ]
  },
  {
   "cell_type": "markdown",
   "metadata": {},
   "source": [
    "### Problem Statement 6:"
   ]
  },
  {
   "cell_type": "markdown",
   "metadata": {},
   "source": [
    "Gaurav and Barakha are both preparing for entrance exams. Gaurav attempts to solve 8 questions per day with a correction rate of 75%, while Barakha averages around 12 questions per day with a correction rate of 45%. \n",
    "What is the probability that each of them will solve 5 questions correctly? \n",
    "What happens in cases of 4 and 6 correct solutions? \n",
    "What do you infer from it? What are the two main governing factors affecting their ability to solve questions correctly? Give a pictorial representation of the same to validate your answer."
   ]
  },
  {
   "cell_type": "code",
   "execution_count": null,
   "metadata": {},
   "outputs": [],
   "source": [
    "n1 = 8  \n",
    "n2 = 12"
   ]
  },
  {
   "cell_type": "code",
   "execution_count": null,
   "metadata": {},
   "outputs": [],
   "source": []
  },
  {
   "cell_type": "markdown",
   "metadata": {},
   "source": [
    "### Problem Statement 7:"
   ]
  },
  {
   "cell_type": "code",
   "execution_count": null,
   "metadata": {},
   "outputs": [],
   "source": [
    "Customers arrive at a rate of 72 per hour to my shop. What is the probability of 𝑘\n",
    "customers arriving in 4 minutes? \n",
    "a) 5 customers, \n",
    "b) not more than 3 customers, \n",
    "c)more than 3 customers. Give a pictorial representation of the same to validate your\n",
    "answer."
   ]
  },
  {
   "cell_type": "code",
   "execution_count": null,
   "metadata": {},
   "outputs": [],
   "source": [
    "mean = 72/60 = 1.2\n",
    "Using Poisson Distribution"
   ]
  },
  {
   "cell_type": "code",
   "execution_count": null,
   "metadata": {},
   "outputs": [],
   "source": [
    "a) 5 cust\n",
    "P(5)= e^(-1.2) 1.2^5/ 5! =0.00624"
   ]
  },
  {
   "cell_type": "code",
   "execution_count": null,
   "metadata": {},
   "outputs": [],
   "source": [
    "b)not more than 3 customers,\n",
    "P(x)=P(0)+P(1)+P(2)+P(3)\n",
    "    = e^(-1.2) 1.2^0/ 0!  + e^(-1.2) 1.2^1/ 1!   + e^(-1.2) 1.2^2/ 2!  + e^(-1.2) 1.2^3/ 3! \n",
    "    =0.301 + 0.361 + 0.2168 + 0.0867 = 0.9655"
   ]
  },
  {
   "cell_type": "code",
   "execution_count": null,
   "metadata": {},
   "outputs": [],
   "source": [
    "c)more than 3 customers\n",
    "P(x)= P(3)+P(4)\n",
    "    = e^(-1.2) 1.2^3/ 3! + e^(-1.2) 1.2^4/ 4! = 0.0867 + 0.0260 = 0.1127"
   ]
  },
  {
   "cell_type": "code",
   "execution_count": null,
   "metadata": {},
   "outputs": [],
   "source": []
  },
  {
   "cell_type": "markdown",
   "metadata": {},
   "source": [
    "### Problem Statement 8:"
   ]
  },
  {
   "cell_type": "code",
   "execution_count": null,
   "metadata": {},
   "outputs": [],
   "source": [
    "I work as a data analyst in Aeon Learning Pvt. Ltd. After analyzing data, I make\n",
    "reports, where I have the efficiency of entering 77 words per minute with 6 errors per\n",
    "hour. What is the probability that I will commit 2 errors in a 455-word financial report?\n",
    "What happens when the no. of words increases/decreases (in case of 1000 words,\n",
    "255 words)?\n",
    "How is the 𝜆 affected?\n",
    "How does it influence the PMF?\n",
    "Give a pictorial representation of the same to validate your answer."
   ]
  },
  {
   "cell_type": "code",
   "execution_count": null,
   "metadata": {},
   "outputs": [],
   "source": []
  },
  {
   "cell_type": "code",
   "execution_count": null,
   "metadata": {},
   "outputs": [],
   "source": []
  },
  {
   "cell_type": "markdown",
   "metadata": {},
   "source": [
    "### Problem Statement 9:"
   ]
  },
  {
   "cell_type": "code",
   "execution_count": null,
   "metadata": {},
   "outputs": [],
   "source": [
    "Let the continuous random variable D denote the diameter of the hole drilled in an\n",
    "aluminum sheet. The target diameter to be achieved is 12.5mm. Random\n",
    "disturbances in the process often result in inaccuracy.\n",
    "Historical data shows that the distribution of D can be modelled by the PDF, f(d) =\n",
    "20e−20(d−12.5), d ≥ 12.5. If a part with diameter > 12.6 mm needs to be scrapped,\n",
    "what is the proportion of those parts? What is the CDF when the diameter is of 11\n",
    "mm?\n",
    "What is the conclusion of this experiment?"
   ]
  },
  {
   "cell_type": "code",
   "execution_count": null,
   "metadata": {},
   "outputs": [],
   "source": [
    "P(12.5< X <12.62)=-e^(-20(x-12.5)) from(12.5 to 12.6)  =0.865\n",
    "Because the total area under f (x) equals 1, we can also calculate \n",
    "P (12.5< X <12.62) = 1 – P(X > 12.62) = 1- 0.135= 0.865"
   ]
  },
  {
   "cell_type": "code",
   "execution_count": null,
   "metadata": {},
   "outputs": [],
   "source": []
  },
  {
   "cell_type": "markdown",
   "metadata": {},
   "source": [
    "### Problem Statement 10:"
   ]
  },
  {
   "cell_type": "code",
   "execution_count": null,
   "metadata": {},
   "outputs": [],
   "source": [
    "Please compute the following:\n",
    "a) P(Z > 1.26), . P(Z < −0.86), P(Z > −1.37), P(−1.25 < Z < 0.37), . P(Z ≤ −4.6)\n",
    "b) Find the value 𝑧 such that 𝑃(𝑍 > 𝑧) = 0.05\n",
    "c) Find the value of 𝑧 such that 𝑃(−𝑧 < 𝑍 < 𝑧) = 0.99"
   ]
  },
  {
   "cell_type": "code",
   "execution_count": null,
   "metadata": {},
   "outputs": [],
   "source": [
    "a) P(Z>1.26) = 0.9306\n",
    "   P(Z< -0.86) = 0.1949\n",
    "   P(Z > −1.37) = 0.0853 \n",
    "   P(−1.25 < Z < 0.37) = P(Z<0.37) - P(Z<-1.25) = 0.6443 - 0.1056 = 0.5387\n",
    "   P(Z ≤ −4.6) = 0.00\n",
    "\n",
    "b) 𝑃(𝑍 > 𝑧) = 0.05, Z = -1.64\n",
    "c) 𝑃(−𝑧 < 𝑍 < 𝑧) = 0.99\n",
    "   Total Probability =1\n",
    "    Therefore, 1-0.99 =0.01\n",
    "\n",
    "    Divide by 2= 0.01/2 = 0.005\n",
    "\n",
    "    P(-0.005 < Z < 0.005)"
   ]
  },
  {
   "cell_type": "code",
   "execution_count": null,
   "metadata": {},
   "outputs": [],
   "source": [
    "# For Practice\n",
    "#https://saylordotorg.github.io/text_introductory-statistics/s09-02-the-standard-normal-distributi.html"
   ]
  },
  {
   "cell_type": "markdown",
   "metadata": {},
   "source": [
    "### Problem Statement 11:"
   ]
  },
  {
   "cell_type": "code",
   "execution_count": null,
   "metadata": {},
   "outputs": [],
   "source": [
    "The current flow in a copper wire follow a normal distribution with a mean of 10 𝑚A\n",
    "and a variance of 4 (𝑚𝐴)2.\n",
    "What is the probability that a current measurement will exceed 13 𝑚𝐴? \n",
    "What is the probability that a current measurement is between 9 and 11mA? \n",
    "Determine the current measurement which has a probability of 0.98."
   ]
  },
  {
   "cell_type": "code",
   "execution_count": null,
   "metadata": {},
   "outputs": [],
   "source": [
    "mean = 10 variance = 4\n",
    "\n",
    "a) P(X > 13) = P(X-10/4 > 13-10/4) = P(Z>1) = 1 −P(Z≤1)"
   ]
  },
  {
   "cell_type": "code",
   "execution_count": null,
   "metadata": {},
   "outputs": [],
   "source": [
    "b) P(9 <X<11) = P(9 −10/4 < X-10/4 < 11-10/4)\n",
    "= P(−1 <Z<1)= P(Z<1) −P(Z≤−1)"
   ]
  },
  {
   "cell_type": "code",
   "execution_count": null,
   "metadata": {},
   "outputs": [],
   "source": [
    "c) We want to find the value of x such that P(X<x) = 0.98\n",
    "P(X<x) = P(X−10/4  < x-10/4 )\n",
    "= P(Z < x−10/4)= 0.98 \n",
    "\n",
    "P(Z < 2.06) = 0.98\n",
    "x-10/3 =2.06 , x=16.18"
   ]
  },
  {
   "cell_type": "code",
   "execution_count": null,
   "metadata": {},
   "outputs": [],
   "source": []
  },
  {
   "cell_type": "markdown",
   "metadata": {},
   "source": [
    "### Problem Statement 12:"
   ]
  },
  {
   "cell_type": "code",
   "execution_count": null,
   "metadata": {},
   "outputs": [],
   "source": [
    "The shaft in a piston has its diameter normally distributed with a mean of 0.2508 inch\n",
    "and a standard deviation of 0.0005 inch. The specifications of the shaft are 0.2500 ∓\n",
    "0.0015 inch. What proportion of shafts are in sync with the specifications? If the\n",
    "process is centered so that the mean is equal to the target value of 0.2500, what\n",
    "proportion of shafts conform to the new specifications? What is your conclusion from\n",
    "this experiment?"
   ]
  },
  {
   "cell_type": "code",
   "execution_count": null,
   "metadata": {},
   "outputs": [],
   "source": [
    "0.9192"
   ]
  }
 ],
 "metadata": {
  "kernelspec": {
   "display_name": "Python 3",
   "language": "python",
   "name": "python3"
  },
  "language_info": {
   "codemirror_mode": {
    "name": "ipython",
    "version": 3
   },
   "file_extension": ".py",
   "mimetype": "text/x-python",
   "name": "python",
   "nbconvert_exporter": "python",
   "pygments_lexer": "ipython3",
   "version": "3.7.1"
  }
 },
 "nbformat": 4,
 "nbformat_minor": 2
}
