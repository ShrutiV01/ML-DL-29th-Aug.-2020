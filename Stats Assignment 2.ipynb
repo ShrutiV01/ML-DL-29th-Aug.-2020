{
 "cells": [
  {
   "cell_type": "markdown",
   "metadata": {},
   "source": [
    "### Assignment 2"
   ]
  },
  {
   "cell_type": "markdown",
   "metadata": {},
   "source": [
    "### Problem Statement 1"
   ]
  },
  {
   "cell_type": "code",
   "execution_count": null,
   "metadata": {},
   "outputs": [],
   "source": [
    "In each of the following situations, state whether it is a correctly stated hypothesis\n",
    "testing problem and why?\n",
    "1. 𝐻0: 𝜇 = 25, 𝐻1: 𝜇 ≠ 25\n",
    "2. 𝐻0: 𝜎 > 10, 𝐻1: 𝜎 = 10\n",
    "3. 𝐻0: 𝑥 = 50, 𝐻1: 𝑥 ≠ 50\n",
    "4. 𝐻0: 𝑝 = 0.1, 𝐻1: 𝑝 = 0.5\n",
    "5. 𝐻0: 𝑠 = 30, 𝐻1: 𝑠 > 30"
   ]
  },
  {
   "cell_type": "code",
   "execution_count": null,
   "metadata": {},
   "outputs": [],
   "source": [
    "1. 𝐻0: 𝜇 = 25, 𝐻1: 𝜇 ≠ 25  : Correct"
   ]
  },
  {
   "cell_type": "code",
   "execution_count": null,
   "metadata": {},
   "outputs": [],
   "source": [
    "2. 𝐻0: 𝜎 > 10, 𝐻1: 𝜎 = 10  : Incorrect\n",
    "   H1 should include all the values not in the H0 group. Hence it shoule be H1: 𝜎 <= 10"
   ]
  },
  {
   "cell_type": "code",
   "execution_count": null,
   "metadata": {},
   "outputs": [],
   "source": [
    "3. 𝐻0: 𝑥 = 50, 𝐻1: 𝑥 ≠ 50 : Correct"
   ]
  },
  {
   "cell_type": "code",
   "execution_count": null,
   "metadata": {},
   "outputs": [],
   "source": [
    "4. 𝐻0: 𝑝 = 0.1, 𝐻1: 𝑝 = 0.5 : Incorrect\n",
    "   H1 should include all the values not in the H0 group. Therefore it should be either of the cases:\n",
    "    𝐻0: 𝑝 = 0.1, 𝐻1: 𝑝 ≠ 0.1"
   ]
  },
  {
   "cell_type": "code",
   "execution_count": null,
   "metadata": {},
   "outputs": [],
   "source": [
    "5. 𝐻0: 𝑠 = 30, 𝐻1: 𝑠 > 30  : Incorrect\n",
    "    H1 should include all the values not in the H0 group. Hence it shoule be H1: s ≠ 30"
   ]
  },
  {
   "cell_type": "code",
   "execution_count": null,
   "metadata": {},
   "outputs": [],
   "source": []
  },
  {
   "cell_type": "markdown",
   "metadata": {},
   "source": [
    "### Problem Statement 2"
   ]
  },
  {
   "cell_type": "code",
   "execution_count": null,
   "metadata": {},
   "outputs": [],
   "source": [
    "The college bookstore tells prospective students that the average cost of its\n",
    "textbooks is Rs. 52 with a standard deviation of Rs. 4.50. A group of smart statistics\n",
    "students thinks that the average cost is higher. To test the bookstore’s claim against\n",
    "their alternative, the students will select a random sample of size 100. Assume that\n",
    "the mean from their random sample is Rs. 52.80. Perform a hypothesis test at the\n",
    "5% level of significance and state your decision."
   ]
  },
  {
   "cell_type": "code",
   "execution_count": null,
   "metadata": {},
   "outputs": [],
   "source": [
    "mean = 52 SD =4.5\n",
    "n =100 sample mean = 52.8\n",
    "alpha = 5%=0.05"
   ]
  },
  {
   "cell_type": "code",
   "execution_count": null,
   "metadata": {},
   "outputs": [],
   "source": [
    "H0: mean=52\n",
    "H1: mean not equal 52"
   ]
  },
  {
   "cell_type": "code",
   "execution_count": null,
   "metadata": {},
   "outputs": [],
   "source": [
    "std error = 4.5/(100)2 = 0.45\n",
    "\n",
    "Z = 52.8 - 52 / 0.45 = 1.78\n",
    "  \n",
    "z(0.05)= +-1.64\n",
    "\n",
    "Since Z falls in the acceptance region\n",
    "We accept H0: mean = 52"
   ]
  },
  {
   "cell_type": "code",
   "execution_count": null,
   "metadata": {},
   "outputs": [],
   "source": []
  },
  {
   "cell_type": "markdown",
   "metadata": {},
   "source": [
    "### Problem Statement 3"
   ]
  },
  {
   "cell_type": "code",
   "execution_count": null,
   "metadata": {},
   "outputs": [],
   "source": [
    "A certain chemical pollutant in the Genesee River has been constant for several\n",
    "years with mean μ = 34 ppm (parts per million) and standard deviation σ = 8 ppm. A\n",
    "group of factory representatives whose companies discharge liquids into the river is\n",
    "now claiming that they have lowered the average with improved filtration devices. A\n",
    "group of environmentalists will test to see if this is true at the 1% level of\n",
    "significance. Assume \\ that their sample of size 50 gives a mean of 32.5 ppm.\n",
    "Perform a hypothesis test at the 1% level of significance and state your decision."
   ]
  },
  {
   "cell_type": "code",
   "execution_count": null,
   "metadata": {},
   "outputs": [],
   "source": [
    "μ = 34 ppm  σ = 8 ppm\n",
    "n=50 sample mean = 32.5  \n",
    "alpha=1%=0.01"
   ]
  },
  {
   "cell_type": "code",
   "execution_count": null,
   "metadata": {},
   "outputs": [],
   "source": [
    "H0: μ = 34 \n",
    "H1: μ not equal 34 "
   ]
  },
  {
   "cell_type": "code",
   "execution_count": null,
   "metadata": {},
   "outputs": [],
   "source": [
    "Z = 32.5-34/ (8/(50)^0.5) \n",
    "  = - 1.5/1.13\n",
    "  = -1.32\n",
    "\n",
    "Z(0.01)= -2.33 & +2.33\n",
    "\n",
    "Since Z falls in the acceptance region\n",
    "We accept H0: μ = 34, Their claim that they have lowered the average with improved filtration devicesis true"
   ]
  },
  {
   "cell_type": "code",
   "execution_count": null,
   "metadata": {},
   "outputs": [],
   "source": []
  },
  {
   "cell_type": "markdown",
   "metadata": {},
   "source": [
    "### Problem Statement 4"
   ]
  },
  {
   "cell_type": "code",
   "execution_count": null,
   "metadata": {},
   "outputs": [],
   "source": [
    "Based on population figures and other general information on the U.S. population,\n",
    "suppose it has been estimated that, on average, a family of four in the U.S. spends\n",
    "about $1135 annually on dental expenditures. Suppose further that a regional dental\n",
    "association wants to test to determine if this figure is accurate for their area of\n",
    "country. To test this, 22 families of 4 are randomly selected from the population in\n",
    "that area of the country and a log is kept of the family’s dental expenditure for one\n",
    "year. The resulting data are given below. Assuming, that dental expenditure is\n",
    "normally distributed in the population, use the data and an alpha of 0.5 to test the\n",
    "dental association’s hypothesis.\n",
    "1008, 812, 1117, 1323, 1308, 1415, 831, 1021, 1287, 851, 930, 730, 699,\n",
    "872, 913, 944, 954, 987, 1695, 995, 1003, 994"
   ]
  },
  {
   "cell_type": "code",
   "execution_count": null,
   "metadata": {},
   "outputs": [],
   "source": [
    "P mean = 1135\n",
    "n =22  alpha = 0.5 sample mean = 1031.32 SD = 240.37"
   ]
  },
  {
   "cell_type": "code",
   "execution_count": null,
   "metadata": {},
   "outputs": [],
   "source": [
    "H0: μ = 1135\n",
    "H1: μ not equal 1135 "
   ]
  },
  {
   "cell_type": "code",
   "execution_count": null,
   "metadata": {},
   "outputs": [],
   "source": [
    "Std error = 240.37/(22)^0.5 = 51.25\n",
    "\n",
    "Z = 1031.32- 1135/51.25\n",
    "  = -2.02\n",
    "    \n",
    "    \n",
    "Z(0.5)=-1.96 & 1.96\n",
    "\n",
    "Z lies in the critical region, hence we reject the null hypothesis and accept the alternate hypothesis\n",
    "Hence, the average dental expenses is not accurate for this area."
   ]
  },
  {
   "cell_type": "code",
   "execution_count": null,
   "metadata": {},
   "outputs": [],
   "source": []
  },
  {
   "cell_type": "markdown",
   "metadata": {},
   "source": [
    "### Problem Statement 5"
   ]
  },
  {
   "cell_type": "code",
   "execution_count": null,
   "metadata": {},
   "outputs": [],
   "source": [
    "In a report prepared by the Economic Research Department of a major bank the\n",
    "Department manager maintains that the average annual family income on Metropolis\n",
    "is $48,432. What do you conclude about the validity of the report if a random sample\n",
    "of 400 families shows and average income of $48,574 with a standard deviation of\n",
    "2000?"
   ]
  },
  {
   "cell_type": "code",
   "execution_count": null,
   "metadata": {},
   "outputs": [],
   "source": [
    "mean = 48432\n",
    "n = 400 sampel mean=48574  SD=2000\n",
    "alpa=10%"
   ]
  },
  {
   "cell_type": "code",
   "execution_count": null,
   "metadata": {},
   "outputs": [],
   "source": [
    "H0:  μ = 48432\n",
    "H1:  μ not equal 48432"
   ]
  },
  {
   "cell_type": "code",
   "execution_count": null,
   "metadata": {},
   "outputs": [],
   "source": [
    "Std error = 2000/(400)^0.5 = 100\n",
    "\n",
    "Z = 48574-48432/100\n",
    "  = 1.42\n",
    "    \n",
    "Z(0.1)= -1.64 & 1.64\n",
    "\n",
    "Since Z falls in the acceptance region\n",
    "We accept H0: μ = 48432"
   ]
  },
  {
   "cell_type": "code",
   "execution_count": null,
   "metadata": {},
   "outputs": [],
   "source": []
  },
  {
   "cell_type": "markdown",
   "metadata": {},
   "source": [
    "### Problem Statement 6"
   ]
  },
  {
   "cell_type": "code",
   "execution_count": null,
   "metadata": {},
   "outputs": [],
   "source": [
    "Suppose that in past years the average price per square foot for warehouses in the\n",
    "United States has been $32.28. A national real estate investor wants to determine\n",
    "whether that figure has changed now. The investor hires a researcher who randomly\n",
    "samples 19 warehouses that are for sale across the United States and finds that the\n",
    "mean price per square foot is $31.67, with a standard deviation of $1.29. assume\n",
    "that the prices of warehouse footage are normally distributed in population. If the\n",
    "researcher uses a 5% level of significance, what statistical conclusion can be\n",
    "reached? What are the hypotheses?"
   ]
  },
  {
   "cell_type": "code",
   "execution_count": null,
   "metadata": {},
   "outputs": [],
   "source": [
    "P mean = 32.28\n",
    "n=19   S mean=31.67  SD=1.29 alpha=5%=0.05"
   ]
  },
  {
   "cell_type": "code",
   "execution_count": null,
   "metadata": {},
   "outputs": [],
   "source": [
    "Ho:  μ = 32.28\n",
    "H1:  μ not equal 32.28 "
   ]
  },
  {
   "cell_type": "code",
   "execution_count": null,
   "metadata": {},
   "outputs": [],
   "source": [
    "std error = 1.29/(19)^0.5 = 0.296\n",
    "\n",
    "Z = 31.67-32.28/0.296\n",
    "  = -2.06\n",
    "    \n",
    "    \n",
    "Z(0.05)=-1.64 & 1.64\n",
    "\n",
    "Since Z lies in the crticial region, we reject the null hypothesis and accept the alterate hypothesis\n",
    "Hence, the average price per square foot has changed now."
   ]
  },
  {
   "cell_type": "code",
   "execution_count": null,
   "metadata": {},
   "outputs": [],
   "source": []
  },
  {
   "cell_type": "markdown",
   "metadata": {},
   "source": [
    "### Problem Statement 7"
   ]
  },
  {
   "cell_type": "code",
   "execution_count": null,
   "metadata": {},
   "outputs": [],
   "source": [
    "Fill in the blank spaces in the table and draw your conclusions from it."
   ]
  },
  {
   "cell_type": "code",
   "execution_count": null,
   "metadata": {},
   "outputs": [],
   "source": [
    "Acceptance      \tSample   \tα    \tβ at μ =52    \tβ at μ = 50.5\n",
    "Region              Size\n",
    "48.5 < x < 51.5     10      0.0576       0.2643           0.8923\n",
    "48 < x < 52         10      0.0114       0.5              0.9705\n",
    "48.81 < x < 51.19   16      0.0576       0.0966           0.8606\n",
    "48.42 < x < 51.58   16      0.0114       0.2515           0.9578\n"
   ]
  },
  {
   "cell_type": "code",
   "execution_count": null,
   "metadata": {},
   "outputs": [],
   "source": [
    "Notes: Refer excel working\n",
    "1) 48.5 < mean  < 51.5 \n",
    "Decision criteria for testing H0 : μ = 50 cm/sec versus H1 : μ not equal 50 cm/sec.\n",
    "\n",
    "Type I Error:\n",
    "- The probability of making a type I error is denoted by α:\n",
    "   α = P(type I error)\n",
    "     = P(reject H0 when H0 is true)\n",
    "    \n",
    "- The probability of type I error α is also called the significant level, the\n",
    "α-error or the size of test.\n",
    "\n",
    "• If the true mean μ = 50 cm/sec and the standard\n",
    "deviation σ = 2.5, then the sample mean is normal with standard deviation\n",
    "σ /√n = 2.5/√10 = 0.79.\n",
    "• The corresponding probability of type I error is        \n",
    "    α = P(  ̄X <48.5; μ = 50)+P(  ̄X >51.5; μ = 50)\n",
    "       Z1 = 48.5-50/0.79 = -1.90, Z2 = 51.5-50/0.79 = 1.90\n",
    "        P(Z< -1.90)+ P(Z>1.90)\n",
    "        = 0.0287 +0.0287 = 0.0574\n",
    "        \n",
    "This implies that 5.74% of all random samples would lead to rejection\n",
    "of the hypothesis H0 : μ = 50 cm/sec when the true mean burning rate is\n",
    "really 50 cm/sec.\n",
    "The more significant the test is, the more restrictive the test becomes and\n",
    "the higher the type I error will be.\n",
    "  \n",
    "• The probability of making a type II error is denoted by β :\n",
    "   β = P(type II error)\n",
    "     = P(fail to reject H0 when H0 is false) (8)\n",
    "• To calculate β (sometimes called the β -error), we must have a specific\n",
    "alternative hypothesis, i.e, we must have a particular value of μ.\n",
    "• A type II error will be committed if the sample mean  ̄X falls between 48.5\n",
    "and 51.5, when μ = 52 and n = 10.  \n",
    "\n",
    " The corresponding probability of type II error is\n",
    "β = P(48.5 ≤  ̄X ≤51.5; μ = 52)\n",
    " z1 = 48.5 −52/0.79 = −4.43\n",
    " z2 = 51.5 −52/0.79 = −0.63\n",
    "\n",
    "β = P(−4.43 ≤Z ≤−0.63)\n",
    "  = P(Z ≤−0.63)−P(Z ≤−4.43)\n",
    "  = 0.2643 −0.0000 = 0.2643"
   ]
  },
  {
   "cell_type": "code",
   "execution_count": null,
   "metadata": {},
   "outputs": [],
   "source": [
    "- Rejecting the null hypothesis H0 when it it true is defined as type I error.\n",
    "- Failing to reject the null hypothesis H0 when it it false is defined as type II error"
   ]
  },
  {
   "cell_type": "code",
   "execution_count": null,
   "metadata": {},
   "outputs": [],
   "source": []
  },
  {
   "cell_type": "code",
   "execution_count": null,
   "metadata": {},
   "outputs": [],
   "source": []
  },
  {
   "cell_type": "markdown",
   "metadata": {},
   "source": [
    "### Problem Statement 8"
   ]
  },
  {
   "cell_type": "code",
   "execution_count": null,
   "metadata": {},
   "outputs": [],
   "source": [
    "Find the t-score for a sample size of 16 taken from a population with mean 10 when\n",
    "the sample mean is 12 and the sample standard deviation is 1.5."
   ]
  },
  {
   "cell_type": "code",
   "execution_count": null,
   "metadata": {},
   "outputs": [],
   "source": [
    "n =16, P mean =10\n",
    "S mean =12 SD=1.5\n",
    "df = 16-1=15\n",
    "\n",
    "1- alpha=0.99\n",
    "alpha= 0.01"
   ]
  },
  {
   "cell_type": "code",
   "execution_count": null,
   "metadata": {},
   "outputs": [],
   "source": [
    "std error = 1.5/(16)^0.5 = 0.375\n",
    "\n",
    "T = 12-10/0.375\n",
    "  = 5.33\n",
    "    \n",
    "T(0.01)= -1.753 & 1.753    "
   ]
  },
  {
   "cell_type": "code",
   "execution_count": null,
   "metadata": {},
   "outputs": [],
   "source": []
  },
  {
   "cell_type": "markdown",
   "metadata": {},
   "source": [
    "### Problem Statement 9"
   ]
  },
  {
   "cell_type": "code",
   "execution_count": null,
   "metadata": {},
   "outputs": [],
   "source": [
    "Find the t-score below which we can expect 99% of sample means will fall if samples\n",
    "of size 16 are taken from a normally distributed population."
   ]
  },
  {
   "cell_type": "code",
   "execution_count": null,
   "metadata": {},
   "outputs": [],
   "source": [
    "n=16\n",
    "1- alpha=0.99, alpha =0.01"
   ]
  },
  {
   "cell_type": "code",
   "execution_count": null,
   "metadata": {},
   "outputs": [],
   "source": [
    "t(0.01)= -2.602 (one tail test)"
   ]
  },
  {
   "cell_type": "code",
   "execution_count": null,
   "metadata": {},
   "outputs": [],
   "source": []
  },
  {
   "cell_type": "markdown",
   "metadata": {},
   "source": [
    "### Problem Statement 10"
   ]
  },
  {
   "cell_type": "code",
   "execution_count": null,
   "metadata": {},
   "outputs": [],
   "source": [
    "If a random sample of size 25 drawn from a normal population gives a mean of 60\n",
    "and a standard deviation of 4, find the range of t-scores where we can expect to find\n",
    "the middle 95% of all sample means. Compute the probability that (−𝑡0.05 <𝑡<𝑡0.10)."
   ]
  },
  {
   "cell_type": "code",
   "execution_count": null,
   "metadata": {},
   "outputs": [],
   "source": [
    "n=25 mean =60  SD=4  df=24\n",
    "CI=95% 1- alpha=0.95  alpha = 0.05"
   ]
  },
  {
   "cell_type": "code",
   "execution_count": null,
   "metadata": {},
   "outputs": [],
   "source": [
    "std error = 4/(25)^0.5 = 0.8\n",
    "\n",
    "−𝑡0.05 < 𝑡 < 𝑡0.10\n",
    "            \n",
    "-t0.5  =  -1.711\n",
    "t0.1   = 1.318\n",
    "\n",
    "-1.711 < t < 1.318"
   ]
  },
  {
   "cell_type": "code",
   "execution_count": null,
   "metadata": {},
   "outputs": [],
   "source": []
  },
  {
   "cell_type": "markdown",
   "metadata": {},
   "source": [
    "### Problem Statement 11"
   ]
  },
  {
   "cell_type": "code",
   "execution_count": null,
   "metadata": {},
   "outputs": [],
   "source": [
    "Two-tailed test for difference between two population means\n",
    "Is there evidence to conclude that the number of people travelling from Bangalore to\n",
    "Chennai is different from the number of people travelling from Bangalore to Hosur in\n",
    "a week, given the following:\n",
    "Population 1: Bangalore to Chennai n1 = 1200\n",
    "x1 = 452\n",
    "s1 = 212\n",
    "Population 2: Bangalore to Hosur n2 = 800\n",
    "x2 = 523\n",
    "s2 = 185"
   ]
  },
  {
   "cell_type": "code",
   "execution_count": null,
   "metadata": {},
   "outputs": [],
   "source": [
    "Let alpha =0.05\n",
    "CI=95%\n",
    "n1 =1200   n2=800\n",
    "x1=452     x2=523\n",
    "s1=212     s2=185"
   ]
  },
  {
   "cell_type": "code",
   "execution_count": null,
   "metadata": {},
   "outputs": [],
   "source": [
    "H0:  μ1 = μ2\n",
    "H1:  μ1 not equal μ2\n",
    "    \n",
    "    \n",
    "std error = SQRT((s1^2 /n1) + (s2^2 /n2) )\n",
    "          = SQRT((212^2 /1200) + (185^2 /800) )\n",
    "          = SQRT(37.45 +42.78) = SQRT(80.23)\n",
    "          = 8.96"
   ]
  },
  {
   "cell_type": "code",
   "execution_count": null,
   "metadata": {},
   "outputs": [],
   "source": [
    "z =452-523/8.96 \n",
    "  = - 7.924\n",
    "    \n",
    "    \n",
    "Two tail test\n",
    "alpha =0.05/2  = 0.25\n",
    "Z(0.25)= -1.96 & +1.96\n",
    "\n",
    "Since Z lies in the critical region, we reject the null hypothesis.\n",
    "Hence, there is diffference between both the population means"
   ]
  },
  {
   "cell_type": "code",
   "execution_count": null,
   "metadata": {},
   "outputs": [],
   "source": []
  },
  {
   "cell_type": "code",
   "execution_count": null,
   "metadata": {},
   "outputs": [],
   "source": []
  },
  {
   "cell_type": "markdown",
   "metadata": {},
   "source": [
    "### Problem Statement 12"
   ]
  },
  {
   "cell_type": "code",
   "execution_count": null,
   "metadata": {},
   "outputs": [],
   "source": [
    "Is there evidence to conclude that the number of people preferring Duracell battery is\n",
    "different from the number of people preferring Energizer battery, given the following:\n",
    "Population 1: Duracell\n",
    "n1 = 100\n",
    "x1 = 308\n",
    "s1 = 84\n",
    "Population 2: Energizer\n",
    "n2 = 100\n",
    "x2 = 254\n",
    "s2 = 67"
   ]
  },
  {
   "cell_type": "code",
   "execution_count": null,
   "metadata": {},
   "outputs": [],
   "source": [
    "n1 = 100  n2 = 100\n",
    "x1 = 308  x2 = 254\n",
    "s1 = 84   s2 = 67"
   ]
  },
  {
   "cell_type": "code",
   "execution_count": null,
   "metadata": {},
   "outputs": [],
   "source": [
    "H0:  μ1 = μ2\n",
    "H1:  μ1 not equal μ2"
   ]
  },
  {
   "cell_type": "code",
   "execution_count": null,
   "metadata": {},
   "outputs": [],
   "source": [
    "std error = SQRT((s1^2 /n1) + (s2^2 /n2) )\n",
    "          = SQRT((84^2 /100) + (67^2 /100) )\n",
    "          = SQRT( 70.56 + 44.89) = SQRT(115.45)\n",
    "          = 10.74"
   ]
  },
  {
   "cell_type": "code",
   "execution_count": null,
   "metadata": {},
   "outputs": [],
   "source": [
    "z = x1-x2/std error \n",
    "  = 308-254/10.74\n",
    "  = 5.03  \n",
    "    \n",
    "Two tail test\n",
    "alpha =0.05/2  = 0.25\n",
    "Z(0.25)= -1.96 & +1.96\n",
    "\n",
    "Since Z lies in the critical region, we reject the null hypothesis.\n",
    "Hence,to conclude that the number of people preferring Duracell battery is\n",
    "different from the number of people preferring Energizer battery"
   ]
  },
  {
   "cell_type": "code",
   "execution_count": null,
   "metadata": {},
   "outputs": [],
   "source": []
  },
  {
   "cell_type": "code",
   "execution_count": null,
   "metadata": {},
   "outputs": [],
   "source": []
  },
  {
   "cell_type": "markdown",
   "metadata": {},
   "source": [
    "### Problem Statement 13"
   ]
  },
  {
   "cell_type": "code",
   "execution_count": null,
   "metadata": {},
   "outputs": [],
   "source": [
    "Pooled estimate of the population variance\n",
    "Does the data provide sufficient evidence to conclude that average percentage\n",
    "increase in the price of sugar differs when it is sold at two different prices?\n",
    "Population 1: Price of sugar = Rs. 27.50 n1 = 14\n",
    "x1 = 0.317%\n",
    "s1 = 0.12%\n",
    "Population 2: Price of sugar = Rs. 20.00 n2 = 9\n",
    "x2 = 0.21%\n",
    "s2 = 0.11%"
   ]
  },
  {
   "cell_type": "code",
   "execution_count": null,
   "metadata": {},
   "outputs": [],
   "source": [
    "Price of sugar = Rs. 27.50 \n",
    "n1 = 14\n",
    "x1 = 0.317%\n",
    "s1 = 0.12%\n",
    "\n",
    "Price of sugar = Rs. 20.00 \n",
    "n2 = 9\n",
    "x2 = 0.21%\n",
    "s2 = 0.11%\n",
    "\n",
    "H0: μ1 - μ2 =0\n",
    "H1: μ1 - μ2 not equal    "
   ]
  },
  {
   "cell_type": "code",
   "execution_count": null,
   "metadata": {},
   "outputs": [],
   "source": [
    "df = n1+n2-2 = 14+20-2 =32"
   ]
  },
  {
   "cell_type": "code",
   "execution_count": null,
   "metadata": {},
   "outputs": [],
   "source": [
    "SD = SQRT(s1^2 + s2^2 / n1+n2-2) \n",
    "   = SQRT(0.12^2 + 0.11^2 / 14+9-2)= SQRT(0.00126)\n",
    "   = 0.035\n",
    "\n",
    "\n",
    "Std error = SQRT(0.035^2/14  + 0.035^2/9)\n",
    "          = SQRT(0.0000875 + 0.000136)\n",
    "          = 0.015"
   ]
  },
  {
   "cell_type": "code",
   "execution_count": null,
   "metadata": {},
   "outputs": [],
   "source": [
    "T test = x1-x2/Std error\n",
    "       = 0.317-0.21 / 0.015\n",
    "       = 7.13\n",
    "\n",
    "t(0.025)=2.045\n",
    "\n",
    "H0 may be rejected at 5 % level of significance"
   ]
  },
  {
   "cell_type": "code",
   "execution_count": null,
   "metadata": {},
   "outputs": [],
   "source": []
  },
  {
   "cell_type": "code",
   "execution_count": null,
   "metadata": {},
   "outputs": [],
   "source": []
  },
  {
   "cell_type": "markdown",
   "metadata": {},
   "source": [
    "### Problem Statement 14"
   ]
  },
  {
   "cell_type": "code",
   "execution_count": null,
   "metadata": {},
   "outputs": [],
   "source": [
    "The manufacturers of compact disk players want to test whether a small price\n",
    "reduction is enough to increase sales of their product. Is there evidence that the\n",
    "small price reduction is enough to increase sales of compact disk players?\n",
    "Population 1: Before reduction\n",
    "n1 = 15\n",
    "x1 = Rs. 6598 s1 = Rs. 844\n",
    "Population 2: After reduction n2 = 12\n",
    "x2 = RS. 6870\n",
    "s2 = Rs. 669"
   ]
  },
  {
   "cell_type": "code",
   "execution_count": null,
   "metadata": {},
   "outputs": [],
   "source": [
    "H0: μ1 - μ2 <=0\n",
    "H1: μ1 - μ2 >0    \n",
    "    \n",
    "Population 1: Before reduction\n",
    "n1 = 15\n",
    "x1 = Rs. 6598 \n",
    "s1 = Rs. 844\n",
    "\n",
    "Population 2: After reduction \n",
    "n2 = 12\n",
    "x2 = RS. 6870\n",
    "s2 = Rs. 669"
   ]
  },
  {
   "cell_type": "code",
   "execution_count": null,
   "metadata": {},
   "outputs": [],
   "source": [
    "df = n1+n2-2 = 15+12-2 = 25"
   ]
  },
  {
   "cell_type": "code",
   "execution_count": null,
   "metadata": {},
   "outputs": [],
   "source": [
    "SD = SQRT(s1^2 + s2^2 / n1+n2-2) \n",
    "   = SQRT(844^2 + 669^2 / 25)= SQRT(46395.88)\n",
    "   = 215.40\n",
    "\n",
    "\n",
    "Std error = SQRT(215.4^2/15  + 215.4^2/12)\n",
    "          = SQRT( 3093.144 + 3866.43)\n",
    "          = 83.42"
   ]
  },
  {
   "cell_type": "code",
   "execution_count": null,
   "metadata": {},
   "outputs": [],
   "source": [
    "T test = x1-x2/Std error\n",
    "       = 6598-6870 / 83.42\n",
    "       = 0.91\n",
    "\n",
    "t(0.10)=1.316\n",
    "\n",
    "H0 may be accepted at 10 % level of significance"
   ]
  },
  {
   "cell_type": "code",
   "execution_count": null,
   "metadata": {},
   "outputs": [],
   "source": []
  },
  {
   "cell_type": "markdown",
   "metadata": {},
   "source": [
    "### Problem Statement 15"
   ]
  },
  {
   "cell_type": "code",
   "execution_count": null,
   "metadata": {},
   "outputs": [],
   "source": [
    "Comparisons of two population proportions when the hypothesized difference is zero\n",
    "Carry out a two-tailed test of the equality of banks’ share of the car loan market in\n",
    "1980 and 1995.\n",
    "Population 1: 1980\n",
    "n1 = 1000\n",
    "x1 = 53\n",
    "𝑝 1 = 0.53\n",
    "Population 2: 1985\n",
    "n2 = 100\n",
    "x2 = 43\n",
    "𝑝 2= 0.53"
   ]
  },
  {
   "cell_type": "code",
   "execution_count": null,
   "metadata": {},
   "outputs": [],
   "source": [
    "H0: p1-p2 =0\n",
    "H1: p1-p2 not equal 0    \n",
    "    \n",
    "Population 1: 1980\n",
    "n1 = 1000\n",
    "x1 = 53\n",
    "𝑝 1 = 0.53\n",
    "Population 2: 1985\n",
    "n2 = 100\n",
    "x2 = 43\n",
    "𝑝 2= 0.53    "
   ]
  },
  {
   "cell_type": "code",
   "execution_count": null,
   "metadata": {},
   "outputs": [],
   "source": [
    "p(hat) = x1 + x2 / n1 + n2 = 53 +43 / 1000+100\n",
    "       = 0.087\n",
    "     \n",
    "Z = (p1-p2)-0 / SQRT((p(hat)(1-phat)(1/n1 + 1/n2)))   # Formula\n",
    "  = (0.53 - 0.43)-0 / sqrt((.48*.52)(1/1000 + 1/100))\n",
    "  = 1.415\n",
    "\n",
    "Z(0.05)= -1.64\n",
    "\n",
    "H0 may be accepted at 10% level of significance"
   ]
  },
  {
   "cell_type": "markdown",
   "metadata": {},
   "source": [
    "### Problem Statement 16"
   ]
  },
  {
   "cell_type": "code",
   "execution_count": null,
   "metadata": {},
   "outputs": [],
   "source": [
    "Carry out a one-tailed test to determine whether the population proportion of\n",
    "traveler’s check buyers who buy at least $2500 in checks when sweepstakes prizes\n",
    "are offered as at least 10% higher than the proportion of such buyers when no\n",
    "sweepstakes are on.\n",
    "Population 1: With sweepstakes\n",
    "n1 = 300\n",
    "x1 = 120\n",
    "𝑝1 = 0.40\n",
    "Population 2: No sweepstakes n2 = 700\n",
    "x2 = 140\n",
    "𝑝 2= 0.20"
   ]
  },
  {
   "cell_type": "code",
   "execution_count": null,
   "metadata": {},
   "outputs": [],
   "source": [
    "Population 1: With sweepstakes\n",
    "n1 = 300\n",
    "x1 = 120\n",
    "𝑝 = 0.40\n",
    "Population 2: No sweepstakes \n",
    "n2 = 700\n",
    "x2 = 140\n",
    "𝑝2= 0.20\n",
    "\n",
    "H0: p1-p2 <= 0.10\n",
    "H1: p1-p2 > 0.10    \n"
   ]
  },
  {
   "cell_type": "code",
   "execution_count": null,
   "metadata": {},
   "outputs": [],
   "source": [
    " Z = (p1-p2)-0.10 / SQRT((p1(1-p1)/n1) + (p2(1-p2)/n2))   # Formula\n",
    "   = (0.14-0.20)-0.10 / SQRT((0.14(1-0.14)/300) + (0.20(1-0.20)/700))\n",
    "   =  -0.16/ SQRT(0.0004 + 0.00023)\n",
    "   = 3.118\n",
    "\n",
    "Z(0.001)= 3.09\n",
    "\n",
    "\n",
    "Since Z lies in the critical region, reject the H0 and accept the H1."
   ]
  },
  {
   "cell_type": "code",
   "execution_count": null,
   "metadata": {},
   "outputs": [],
   "source": []
  },
  {
   "cell_type": "code",
   "execution_count": null,
   "metadata": {},
   "outputs": [],
   "source": []
  },
  {
   "cell_type": "markdown",
   "metadata": {},
   "source": [
    "### Problem Statement 17"
   ]
  },
  {
   "cell_type": "code",
   "execution_count": null,
   "metadata": {},
   "outputs": [],
   "source": [
    "A die is thrown 132 times with the following results: Number turned up: 1, 2, 3, 4, 5, 6\n",
    "Frequency: 16, 20, 25, 14, 29, 28\n",
    "Is the die unbiased? Consider the degrees of freedom as 𝑝 −1 ."
   ]
  },
  {
   "cell_type": "code",
   "execution_count": null,
   "metadata": {},
   "outputs": [],
   "source": [
    "H0: The die is fair\n",
    "H1: This is not fair\n",
    "    "
   ]
  },
  {
   "cell_type": "code",
   "execution_count": null,
   "metadata": {},
   "outputs": [],
   "source": [
    "The expected frequencies are based on a uniform\n",
    "distribution which gives each   Ei  as\n",
    "\n",
    "Ei = (1/6) (16 + 20 + 25 + 14 + 29 + 28)\n",
    "   = 22\n",
    "    \n",
    "Score\tOi\tEi\tOi-Ei\t(Oi-Ei)2\t(Oi-Ei)2 / Ei\n",
    "1\t16\t22\t-6\t36\t1.64\n",
    "2\t20\t22\t-2\t4\t0.18\n",
    "3\t25\t22\t3\t9\t0.41\n",
    "4\t14\t22\t-8\t64\t2.91\n",
    "5\t29\t22\t7\t49\t2.23\n",
    "6\t28\t22\t6\t36\t1.64\n",
    "\t\t\t\tSum\t9.00\n",
    "    \n",
    "Chi square test = 9\n",
    "df =6-1=5\n",
    "Let alpha =0.05\n",
    "\n",
    "Chi square = 11.070\n",
    "\n",
    "Since the chi square value doesnot lie in the critical region, we accept the H0\n",
    "Die is fair and unbiased"
   ]
  },
  {
   "cell_type": "code",
   "execution_count": null,
   "metadata": {},
   "outputs": [],
   "source": []
  },
  {
   "cell_type": "code",
   "execution_count": null,
   "metadata": {},
   "outputs": [],
   "source": []
  },
  {
   "cell_type": "markdown",
   "metadata": {},
   "source": [
    "### Problem Statement 18"
   ]
  },
  {
   "cell_type": "code",
   "execution_count": null,
   "metadata": {},
   "outputs": [],
   "source": [
    "In a certain town, there are about one million eligible voters. A simple random\n",
    "sample of 10,000 eligible voters was chosen to study the relationship between\n",
    "gender and participation in the last election. The results are summarized in the\n",
    "following 2X2 (read two by two) contingency table:\n",
    "    \n",
    "                Men       WOmen\n",
    "    Voted       2792       3591\n",
    "    Not voted   1486       2131\n",
    "    \n",
    "    We would want to check whether being a man or a woman (columns) is independent of\n",
    "having voted in the last election (rows). In other words, is “gender and voting independent”?"
   ]
  },
  {
   "cell_type": "code",
   "execution_count": null,
   "metadata": {},
   "outputs": [],
   "source": [
    "Formula: expected frequencies = row totals x column totals \n",
    "                                 --------------------------\n",
    "                                        grand total \n",
    "chi square= (O – e)2            \n",
    "            -------\n",
    "               e \n",
    "d.f. = (rows - 1) * (columns - 1)"
   ]
  },
  {
   "cell_type": "code",
   "execution_count": null,
   "metadata": {},
   "outputs": [],
   "source": [
    "H0: Gender and voting are independent\n",
    "H1: Gender and voting are dependent"
   ]
  },
  {
   "cell_type": "code",
   "execution_count": null,
   "metadata": {},
   "outputs": [],
   "source": [
    "Given data\n",
    "\n",
    "Men\tWomen\tTotal\n",
    "Voted\t2792\t3591\t6383\n",
    "Not voted\t1486\t5722\t3617\n",
    "Total\t4278\t5722\t10000\n",
    "\n",
    "Expected table\n",
    "\n",
    "\tMen\tWomen\tTotal\n",
    "Voted\t2731\t3652\t6383\n",
    "Not voted\t1547\t2070\t3617\n",
    "Total\t4278\t2070\t10000\n",
    "\n",
    "Chi square\t\t\n",
    "\tMen\tWomen\n",
    "Voted\t1.36\t1.02\n",
    "Not voted\t2.41\t1.8\n",
    "\n",
    "Chi square = 1.4+1.0+2.4+1.8 = 6.6\n",
    "\n",
    "df = 2-1 =1\n",
    "\n",
    "Since X2 is 6.6 which has a value of 1%, we have to reject the NULL hypothesis.  \n",
    "The data supports the hypothesis that gender and voting are dependent in this town. \n"
   ]
  },
  {
   "cell_type": "code",
   "execution_count": null,
   "metadata": {},
   "outputs": [],
   "source": []
  },
  {
   "cell_type": "markdown",
   "metadata": {},
   "source": [
    "### Problem Statement 19"
   ]
  },
  {
   "cell_type": "code",
   "execution_count": null,
   "metadata": {},
   "outputs": [],
   "source": [
    "A sample of 100 voters are asked which of four candidates they would vote for in an\n",
    "election. The number supporting each candidate is given below:\n",
    "    Higgins  Reardon     White    Charlton\n",
    "      41       19         24         16\n",
    "\n",
    "    \n",
    "Do the data suggest that all candidates are equally popular? [Chi-Square = 14.96,\n",
    "with 3 df, 𝑝 0.05 ."
   ]
  },
  {
   "cell_type": "code",
   "execution_count": null,
   "metadata": {},
   "outputs": [],
   "source": [
    "H0: All candidates are equally popular\n",
    "H1: All candidates are not equally popular"
   ]
  },
  {
   "cell_type": "code",
   "execution_count": null,
   "metadata": {},
   "outputs": [],
   "source": [
    "\tOi\tEi\tOi-Ei\t(Oi-Ei)2\t(Oi-Ei)2 / Ei\n",
    "Higgins\t41\t25\t16\t256\t10.24\n",
    "Reardon\t19\t25\t-6\t36\t1.44\n",
    "White\t24\t25\t-1\t1\t0.04\n",
    "Charlton\t16\t25\t-9\t81\t3.24\n",
    "\t\t\t\tTotal\t14.96\n",
    "\n",
    "Chi square calculated = 14.96\n",
    "df = 4-1=3\n",
    "\n",
    "Chi square(0.05)= 7.815\n",
    "\n",
    "Chi square value obtained by calculation is greater than the Chi square for 0.05 significance.\n",
    "Hence, reject the H0 and accept the H1 i.e. All candidates are not equally popular"
   ]
  },
  {
   "cell_type": "code",
   "execution_count": null,
   "metadata": {},
   "outputs": [],
   "source": []
  },
  {
   "cell_type": "markdown",
   "metadata": {},
   "source": [
    "### Problem Statement 20"
   ]
  },
  {
   "cell_type": "code",
   "execution_count": null,
   "metadata": {},
   "outputs": [],
   "source": [
    "Children of three ages are asked to indicate their preference for three photographs of\n",
    "adults. Do the data suggest that there is a significant relationship between age and\n",
    "photograph preference? What is wrong with this study? [Chi-Square = 29.6, with 4\n",
    "df: 𝑝 < 0.05].\n",
    "                    Photograpg\n",
    "                         A      B      C  \n",
    "Age of child 5-6 yrs     18     22     20\n",
    "             7-8 yrs      2     28     40\n",
    "             9-10 yrs    20     10     40 "
   ]
  },
  {
   "cell_type": "code",
   "execution_count": null,
   "metadata": {},
   "outputs": [],
   "source": [
    "H0: There is no relationship between age and photograph preference\n",
    "H1: There is relationship between age and photograph preference    "
   ]
  },
  {
   "cell_type": "code",
   "execution_count": null,
   "metadata": {},
   "outputs": [],
   "source": [
    "\t\tPhotograh\t\t\t\n",
    "\t\tA\tB\tC\tRow total\n",
    "Age of child\t5-6 yrs\t18\t22\t20\t60\n",
    "\t7-8 yrs\t2\t28\t40\t70\n",
    "\t9-10 yrs\t20\t10\t40\t70\n",
    "\tCol total\t40\t60\t100\t200\n",
    "\n",
    "    \n",
    "Expected frequency = row total * column total\n",
    "                     ------------------------\n",
    "                      grand total\n",
    "        \n",
    "        \n",
    "        \n",
    "O:  18     22     20     2     28     40      20     10     40 \n",
    "E:  12     18     30     14    21     35      14     21     35\n",
    "    \n",
    "O\tE\tO-E\t(O-E)^2\t(O-E)^2 / E\n",
    "18\t12\t6\t36\t3.00\n",
    "22\t18\t4\t16\t0.89\n",
    "20\t30\t-10\t100\t3.33\n",
    "2\t14\t-12\t144\t10.29\n",
    "28\t21\t7\t49\t2.33\n",
    "40\t35\t5\t25\t0.71\n",
    "20\t14\t6\t36\t2.57\n",
    "10\t21\t-11\t121\t5.76\n",
    "40\t35\t5\t25\t0.71\n",
    "\t\t\tSum\t29.60\n",
    "\n",
    "Chi square calculated = 29.60\n",
    "\n",
    "d.f. = (rows - 1) * (columns - 1) = 2*2=4\n",
    "\n",
    "Chi square(0.05)=9.488\n",
    "\n",
    "Chi square value obtained by calculation is greater than the Chi square for 0.05 significance.\n",
    "Hence, reject the H0 and accept the H1 i.e.There is relationship between age and photograph preference"
   ]
  },
  {
   "cell_type": "code",
   "execution_count": null,
   "metadata": {},
   "outputs": [],
   "source": []
  },
  {
   "cell_type": "code",
   "execution_count": null,
   "metadata": {},
   "outputs": [],
   "source": []
  },
  {
   "cell_type": "markdown",
   "metadata": {},
   "source": [
    "### Problem Statement 21"
   ]
  },
  {
   "cell_type": "code",
   "execution_count": null,
   "metadata": {},
   "outputs": [],
   "source": [
    "A study of conformity using the Asch paradigm involved two conditions: one where\n",
    "one confederate supported the true judgement and another where no confederate\n",
    "gave the correct response.\n",
    "\n",
    "                Support     No Support\n",
    "Conform           18            40\n",
    "Not conform       32            10\n",
    "\n",
    "\n",
    "Is there a significant difference between the \"support\" and \"no support\" conditions in the\n",
    "frequency with which individuals are likely to conform? [Chi-Square = 19.87, with 1 df:\n",
    "𝑝 < 0.05]."
   ]
  },
  {
   "cell_type": "code",
   "execution_count": null,
   "metadata": {},
   "outputs": [],
   "source": [
    "                Support     No Support  ROw total\n",
    "Conform           18            40        58\n",
    "Not conform       32            10        42\n",
    "COl total         50            50        100\n",
    "\n",
    "\n",
    "(a) Calculate the row, column and grand totals.\n",
    "(b) Calculate the expected frequency for each cell of the table, by multiplying together the appropriate \n",
    "    row and column totals and then dividing by the grand total.\n",
    "(c) Subtract each expected frequency from its associated observed frequency; \n",
    "    but then apply Yates' correction, by subtracting 0.5 from the absolute value of each O-E value. \n",
    "    (The vertical bars in the formula mean \"ignore any minus signs\").\n",
    "    \n",
    "O:  18  40  32  10\n",
    "E:  29  29  21  21\n",
    "    \n",
    "(|O-E|-0.5)  10.5  10.5  10.5  10.5\n",
    "\n",
    "(|O-E|-0.5)^2   110.25   110.25   110.25   110.25\n",
    "\n",
    "\n",
    "(|O-E|-0.5)^2   3.80    3.80    5.25    5.25\n",
    "-------------\n",
    "     E\n",
    "    \n",
    "    \n",
    "Chi square calculated = 18.1\n",
    "df=1*1 =1\n",
    "\n",
    "Chi square(0.05)=3.841\n",
    "\n",
    "Our obtained value of Chi-Squared is bigger than the critical value of Chi-Squared \n",
    "Therefore we can conclude that there is a significant difference between \n",
    "the \"support\" and \"no support\" conditions, in terms of the frequency with which individuals conformed."
   ]
  },
  {
   "cell_type": "code",
   "execution_count": null,
   "metadata": {},
   "outputs": [],
   "source": []
  },
  {
   "cell_type": "code",
   "execution_count": null,
   "metadata": {},
   "outputs": [],
   "source": []
  },
  {
   "cell_type": "markdown",
   "metadata": {},
   "source": [
    "### Problem Statement 22"
   ]
  },
  {
   "cell_type": "code",
   "execution_count": null,
   "metadata": {},
   "outputs": [],
   "source": [
    "We want to test whether short people differ with respect to their leadership qualities\n",
    "(Genghis Khan, Adolf Hitler and Napoleon were all stature-deprived, and how many midget\n",
    "MP's are there?) The following table shows the frequencies with which 43 short people and\n",
    "52 tall people were categorized as \"leaders\", \"followers\" or as \"unclassifiable\". Is there a\n",
    "relationship between height and leadership qualities?\n",
    "[Chi-Square = 10.71, with 2 df: 𝑝 < 0.01]."
   ]
  },
  {
   "cell_type": "code",
   "execution_count": null,
   "metadata": {},
   "outputs": [],
   "source": [
    "H0: There is no relationship between height and leadership qualities\n",
    "H1: There is a relationship between height and leadership qualities    \n",
    "                  Heights\n",
    "                  Short      Tall    Rows Total\n",
    "Leaders            12         32          44\n",
    "FOllowers          22         14          36  \n",
    "Unclassified        9          6          15\n",
    "Col Total          43         52          95\n",
    "\n",
    "\n",
    "O:           12     32      22       14      9      6\n",
    "E:         19.91  24.08   16.29    19.70    6.79   8.21\n",
    "    \n",
    "(O-E):     7.91     7.92    5.71    5.7     2.21    2.21\n",
    "(o-E)^2:   62.56    62.73   32.60   32.49   4.88    4.88\n",
    "(o-E)^2/E: 3.14     2.60    2       1.65    0.72    0.6\n",
    "    \n",
    "Chi square =10.71\n",
    "df=2*1=2\n",
    "Chi squre(0.01)=9.210\n",
    "\n",
    "Our obtained value of Chi-Squared is bigger than the critical value of Chi-Squared \n",
    "Therefore we can conclude that there is a relationship between height and leadership qualities "
   ]
  },
  {
   "cell_type": "code",
   "execution_count": null,
   "metadata": {},
   "outputs": [],
   "source": []
  },
  {
   "cell_type": "markdown",
   "metadata": {},
   "source": [
    "### Problem Statement 23"
   ]
  },
  {
   "cell_type": "code",
   "execution_count": null,
   "metadata": {},
   "outputs": [],
   "source": [
    "Each respondent in the Current Population Survey of March 1993 was classified as\n",
    "employed, unemployed, or outside the labor force. The results for men in California age 35-\n",
    "44 can be cross-tabulated by marital status, as follows:\n",
    "    \n",
    "Men of different marital status seem to have different distributions of labor force status. Or is\n",
    "this just chance variation? (you may assume the table results from a simple random\n",
    "sample.)"
   ]
  },
  {
   "cell_type": "markdown",
   "metadata": {},
   "source": [
    "H0: ROws and columns are independent\n",
    "H1: There is relationship between rows and columns\n",
    "\n",
    "\n",
    "                      Married    Widowed     Never married    Rows Totals\n",
    "Employed                 679      103          114              896\n",
    "Unemployed                63       10           20              93\n",
    "Not in labour force       42       18           25              85\n",
    "Cols total               784      131          159             1074\n",
    "\n",
    "O:            679      103      114     63      10      20     42      18      25\n",
    "E:          654.06   109.29  132.65   67.89  11.34   13.76   62.05    10.37   12.58\n",
    "\n",
    "(O-E) :      24.94   6.29     18.65    4.89    1.34   6.24    20.05   7.63    12.42\n",
    "(O-E)^2 :    622     39.56    347.82   23.91   1.8    38.94   402     58.21   154.26\n",
    "(O-E)^2/E:   0.95    0.36     2.62     0.35    0.16   2.83    6.48    5.61    12.26\n",
    "\n",
    "Chi square calculated = 31.62\n",
    "df=2*2= 4\n",
    "\n",
    "Chi square(0.05)=9.488\n",
    "\n",
    "Our obtained value of Chi-Squared is bigger than the critical value of Chi-Squared \n",
    "Therefore we can conclude that there is relationship between rows and columns"
   ]
  },
  {
   "cell_type": "code",
   "execution_count": null,
   "metadata": {},
   "outputs": [],
   "source": []
  },
  {
   "cell_type": "markdown",
   "metadata": {},
   "source": []
  },
  {
   "cell_type": "code",
   "execution_count": null,
   "metadata": {},
   "outputs": [],
   "source": []
  },
  {
   "cell_type": "code",
   "execution_count": 4,
   "metadata": {},
   "outputs": [],
   "source": []
  },
  {
   "cell_type": "code",
   "execution_count": null,
   "metadata": {},
   "outputs": [],
   "source": []
  },
  {
   "cell_type": "code",
   "execution_count": null,
   "metadata": {},
   "outputs": [],
   "source": []
  }
 ],
 "metadata": {
  "kernelspec": {
   "display_name": "Python 3",
   "language": "python",
   "name": "python3"
  },
  "language_info": {
   "codemirror_mode": {
    "name": "ipython",
    "version": 3
   },
   "file_extension": ".py",
   "mimetype": "text/x-python",
   "name": "python",
   "nbconvert_exporter": "python",
   "pygments_lexer": "ipython3",
   "version": "3.7.1"
  }
 },
 "nbformat": 4,
 "nbformat_minor": 2
}
