{
 "cells": [
  {
   "cell_type": "markdown",
   "metadata": {},
   "source": [
    "## Assignment 4"
   ]
  },
  {
   "cell_type": "markdown",
   "metadata": {},
   "source": [
    "### Problem Statement 1"
   ]
  },
  {
   "cell_type": "code",
   "execution_count": null,
   "metadata": {},
   "outputs": [],
   "source": [
    "Is gender independent of education level? A random sample of 395 people were \n",
    "surveyed and each person was asked to report the highest education level they \n",
    "obtained. The data that resulted from the survey is summarized in the following table: \n",
    " \n",
    "     High School   Bachelors   Masters   Ph.d.  Total \n",
    "Female    60          54         46       41     201 \n",
    "Male      40          44         53       57     194 \n",
    "Total     100         98         99       98     395  \n",
    "\n",
    "Question: Are gender and education level dependent at 5% level of significance? In \n",
    "other words, given the data collected above, is there a relationship between the \n",
    "gender of an individual and the level of education that they have obtained? "
   ]
  },
  {
   "cell_type": "code",
   "execution_count": null,
   "metadata": {},
   "outputs": [],
   "source": [
    "H0: Gender and education level are independent\n",
    "H1: Gender and education level are dependent"
   ]
  },
  {
   "cell_type": "code",
   "execution_count": null,
   "metadata": {},
   "outputs": [],
   "source": [
    "  \n",
    "O    E      O-E    (O-E)^2\t(O-E)^2 /E\n",
    "60\t50.89\t9.11\t83.06\t1.63\n",
    "54\t49.87\t4.13\t17.07\t0.34\n",
    "46\t50.38\t-4.38\t19.16\t0.38\n",
    "41\t49.87\t-8.87\t78.65\t1.58\n",
    "40\t49.11\t-9.11\t83.06\t1.69\n",
    "44\t48.13\t-4.13\t17.07\t0.35\n",
    "53\t48.62\t4.38\t19.16\t0.39\n",
    "57\t48.13\t8.87\t78.65\t1.63\n",
    "\n",
    "Chi square calculated = 8.01\n",
    "df =1*3=3\n",
    "\n",
    "Chi square(0.05)=7.815\n",
    "\n",
    "We reject the null hypothesis and accept the alternate hypothesis."
   ]
  },
  {
   "cell_type": "code",
   "execution_count": null,
   "metadata": {},
   "outputs": [],
   "source": []
  },
  {
   "cell_type": "markdown",
   "metadata": {},
   "source": [
    "### Problem Statement 2"
   ]
  },
  {
   "cell_type": "code",
   "execution_count": null,
   "metadata": {},
   "outputs": [],
   "source": [
    "Using the following data, perform a oneway analysis of variance using α=.05. Write \n",
    "up the results in APA format. \n",
    "  \n",
    "[Group1: 51, 45, 33, 45, 67]  \n",
    "[Group2: 23, 43, 23, 43, 45]  \n",
    "[Group3: 56, 76, 74, 87, 56]"
   ]
  },
  {
   "cell_type": "code",
   "execution_count": null,
   "metadata": {},
   "outputs": [],
   "source": [
    "\tGroup1  \tGroup 2 \tGroup 3 \t(G1-mean)^2 \t(G2-mean)^2 \t(G3-mean)^2\n",
    "    \t51  \t23          \t56      \t7.84    \t153.76      \t190.44\n",
    "    \t45  \t43          \t76      \t10.24   \t57.76       \t38.44\n",
    "    \t33   \t23          \t74       \t231.04   \t153.76      \t17.64\n",
    "    \t45  \t43          \t87       \t10.24   \t57.76       \t295.84\n",
    "    \t67  \t45          \t56        \t353.44   \t92.16       \t190.44\n",
    "Total\t241 \t177         \t349     \t612.8   \t612.8       \t612.8\n",
    "Mean\t48.2\t35.4        \t69.8\t\t\t\n",
    "Grand mean\t51.13\t\t\t\t\t\n",
    " \n",
    "SS bet\t3022.93\n",
    "MSST\t1511.47\n",
    "\n",
    "SS within\t1838.40\n",
    "MSSE\t153.20\n",
    "        \n",
    "Ftest\t9.87\n",
    "F(0.05)(2,14)\t3.739\n",
    "\n",
    "Reject the H0 and accept the H1"
   ]
  },
  {
   "cell_type": "code",
   "execution_count": null,
   "metadata": {},
   "outputs": [],
   "source": []
  },
  {
   "cell_type": "markdown",
   "metadata": {},
   "source": [
    "### Problem Statement 3"
   ]
  },
  {
   "cell_type": "code",
   "execution_count": null,
   "metadata": {},
   "outputs": [],
   "source": [
    "Calculate F Test for given 10, 20, 30, 40, 50 and 5,10,15, 20, 25.\n",
    "For 10, 20, 30, 40, 50:"
   ]
  },
  {
   "cell_type": "code",
   "execution_count": null,
   "metadata": {},
   "outputs": [],
   "source": [
    "\tS1\tS2\t(S1-S1mean)^2\t(S2-S2mean)^2\n",
    "\t10\t5   \t400         \t100\n",
    "\t20\t10  \t100         \t25\n",
    "\t30\t15    \t0            \t0\n",
    "\t40\t20  \t100         \t25\n",
    "\t50\t25  \t400         \t100\n",
    "\t\t\t\t\n",
    "Total\t150\t75\t1000\t250\n",
    "Mean\t30\t15\t\t\n",
    "Grand mean\t22.5\t\n",
    "SD\tsqrt(1/(5-1)((10-30)^2+(20-30)^2+(30-30)^2+(40-30)^2+(50-30)^2) \tsqrt(1/(5-1)((5-15)^2+(10-15)^2+(15-15)^2+(20-15)^2+(25-15)^2))\n",
    "SD\t15.8113883\t7.90569415\n",
    "Variance = SD^2 \t250 \t62.5\n",
    "\n",
    "\n",
    "\n",
    "SSbet = (5*(30-C23)^2)+(5*(15-C23)^2) = 562.5\n",
    "MSST = C29/2-1 = 280.25\n",
    "\n",
    "SS within = 1250\n",
    "MSSE = 156.25\n",
    "\n",
    "Fstats = 1.7936\n",
    "\n",
    "Calculate the Ftest  = Variance S1 / Variance S2\n",
    "Ftest = 4\n",
    "\n",
    "         \n",
    "         \n",
    "Notes: Refer Pg 36 of Hypothesis doc         "
   ]
  },
  {
   "cell_type": "code",
   "execution_count": null,
   "metadata": {},
   "outputs": [],
   "source": []
  },
  {
   "cell_type": "code",
   "execution_count": null,
   "metadata": {},
   "outputs": [],
   "source": []
  },
  {
   "cell_type": "code",
   "execution_count": null,
   "metadata": {},
   "outputs": [],
   "source": []
  }
 ],
 "metadata": {
  "kernelspec": {
   "display_name": "Python 3",
   "language": "python",
   "name": "python3"
  },
  "language_info": {
   "codemirror_mode": {
    "name": "ipython",
    "version": 3
   },
   "file_extension": ".py",
   "mimetype": "text/x-python",
   "name": "python",
   "nbconvert_exporter": "python",
   "pygments_lexer": "ipython3",
   "version": "3.7.1"
  }
 },
 "nbformat": 4,
 "nbformat_minor": 2
}
