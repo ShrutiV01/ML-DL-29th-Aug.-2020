{
 "cells": [
  {
   "cell_type": "markdown",
   "metadata": {},
   "source": [
    "## Assignment 3"
   ]
  },
  {
   "cell_type": "markdown",
   "metadata": {},
   "source": [
    "### Problem Statement 1"
   ]
  },
  {
   "cell_type": "code",
   "execution_count": null,
   "metadata": {},
   "outputs": [],
   "source": [
    "Blood glucose levels for obese patients have a mean of 100 with a standard deviation of\n",
    "15. A researcher thinks that a diet high in raw cornstarch will have a positive effect on\n",
    "blood glucose levels. A sample of 36 patients who have tried the raw cornstarch diet\n",
    "have a mean glucose level of 108. Test the hypothesis that the raw cornstarch had an\n",
    "effect or not."
   ]
  },
  {
   "cell_type": "code",
   "execution_count": null,
   "metadata": {},
   "outputs": [],
   "source": [
    "mean= 100, sd = 15\n",
    "n =36, s mean = 108"
   ]
  },
  {
   "cell_type": "code",
   "execution_count": null,
   "metadata": {},
   "outputs": [],
   "source": [
    "H0: mean =100\n",
    "H1: mean not equal to 100\n",
    "    \n",
    "    \n",
    "std error = SD/sqrt(n)\n",
    "          = 15/(36)^0.5\n",
    "          = 2.5\n",
    "        \n",
    "Z = Sm-Pm/std error\n",
    "  = 108-100/2.5\n",
    "  = 3.2\n",
    "\n",
    "Let alpha =0.05\n",
    "\n",
    "Z(0.05)= 1.64 (two tail test)\n",
    "\n",
    "Since, 3.2 > 1.64, we reject the null hypothesis and accept the alternate hypothesis."
   ]
  },
  {
   "cell_type": "code",
   "execution_count": null,
   "metadata": {},
   "outputs": [],
   "source": []
  },
  {
   "cell_type": "markdown",
   "metadata": {},
   "source": [
    "### Problem Statement 2"
   ]
  },
  {
   "cell_type": "code",
   "execution_count": null,
   "metadata": {},
   "outputs": [],
   "source": [
    "In one state, 52% of the voters are Republicans, and 48% are Democrats. In a second\n",
    "state, 47% of the voters are Republicans, and 53% are Democrats. Suppose a simple\n",
    "random sample of 100 voters are surveyed from each state.\n",
    "What is the probability that the survey will show a greater percentage of Republican\n",
    "voters in the second state than in the first state?"
   ]
  },
  {
   "cell_type": "code",
   "execution_count": null,
   "metadata": {},
   "outputs": [],
   "source": [
    "Let \n",
    "P1 = proportion of Republican voters in the first state\n",
    "P2 = proportion of Republican voters in the second stat\n",
    "p1 = proportion of Republican voters from sample in first state\n",
    "p2 = proportion of Republican voters in samplein second state\n",
    "n1 = 100 = Number of voters sampled from first state\n",
    "n2 = 100 = Number of voters sampled from the second state"
   ]
  },
  {
   "cell_type": "code",
   "execution_count": null,
   "metadata": {},
   "outputs": [],
   "source": [
    "Make sure the samples from each population are big enough to model differences with a normal distribution\n",
    "n1P1 = 100* 0.52 = 52     n1(1-P1)= 100*0.48 = 48\n",
    "n2P2 = 100*0.47 = 47      n2(1-P2)= 100*0.53 = 53\n",
    "are each greater than 10, the sample size is large enough"
   ]
  },
  {
   "cell_type": "code",
   "execution_count": null,
   "metadata": {},
   "outputs": [],
   "source": [
    "Mean of the difference in sample proportions:\n",
    "    E(p1-p2) =P1- P2 = 0.52 - 0.47 = 0.05"
   ]
  },
  {
   "cell_type": "code",
   "execution_count": null,
   "metadata": {},
   "outputs": [],
   "source": [
    "Standar deviation:\n",
    "= sqrt{ [ P1 (1 - P1) / n1  ] + [ P2 (1 - P2 ) / n2  ] }\n",
    "= sqrt{ [ (0.52 * 0.48) / 100  ] + [ (0.47 * 0.53 ) / 100  ] }\n",
    "= sqrt{0.002496+0.002491}\n",
    "= sqrt(0.004987)\n",
    "= 0.0706"
   ]
  },
  {
   "cell_type": "code",
   "execution_count": null,
   "metadata": {},
   "outputs": [],
   "source": [
    "This problem requires us to find the probability that p1  is less than \n",
    "p2 . This is equivalent to finding the probability that p1  - p2  is less than zero. To find this \n",
    "probability, we need to transform the random variable (p1  - p2) into a z-score.\n",
    "\n",
    "Z(p1-p2) = x -mean(p1-p2) / std deviation\n",
    "         = (0-0.05)/0.0706\n",
    "         = -0.7082\n",
    "        \n",
    "        \n",
    "\n",
    "Therefore, the survey will show a greater percentage of Republican\n",
    "voters in the second state than in the first state"
   ]
  },
  {
   "cell_type": "code",
   "execution_count": null,
   "metadata": {},
   "outputs": [],
   "source": []
  },
  {
   "cell_type": "markdown",
   "metadata": {},
   "source": [
    "### Problem Statement 3"
   ]
  },
  {
   "cell_type": "code",
   "execution_count": null,
   "metadata": {},
   "outputs": [],
   "source": [
    "You take the SAT and score 1100. The mean score for the SAT is 1026 and the standard\n",
    "deviation is 209. How well did you score on the test compared to the average test taker?"
   ]
  },
  {
   "cell_type": "code",
   "execution_count": null,
   "metadata": {},
   "outputs": [],
   "source": [
    "x = 1100  mean = 1026   std deviation = 209\n",
    "\n",
    "Z = x-mean/std deviation\n",
    "  = 1100-1026 /209\n",
    "  = 0.354\n"
   ]
  },
  {
   "cell_type": "code",
   "execution_count": null,
   "metadata": {},
   "outputs": [],
   "source": [
    "Note: The z-table shown has scores for the RIGHT of the mean. \n",
    "    Therefore, we have to add .500 for all of the area LEFT of the mean."
   ]
  },
  {
   "cell_type": "code",
   "execution_count": null,
   "metadata": {},
   "outputs": [],
   "source": []
  },
  {
   "cell_type": "code",
   "execution_count": null,
   "metadata": {},
   "outputs": [],
   "source": []
  },
  {
   "cell_type": "code",
   "execution_count": null,
   "metadata": {},
   "outputs": [],
   "source": []
  }
 ],
 "metadata": {
  "kernelspec": {
   "display_name": "Python 3",
   "language": "python",
   "name": "python3"
  },
  "language_info": {
   "codemirror_mode": {
    "name": "ipython",
    "version": 3
   },
   "file_extension": ".py",
   "mimetype": "text/x-python",
   "name": "python",
   "nbconvert_exporter": "python",
   "pygments_lexer": "ipython3",
   "version": "3.7.1"
  }
 },
 "nbformat": 4,
 "nbformat_minor": 2
}
